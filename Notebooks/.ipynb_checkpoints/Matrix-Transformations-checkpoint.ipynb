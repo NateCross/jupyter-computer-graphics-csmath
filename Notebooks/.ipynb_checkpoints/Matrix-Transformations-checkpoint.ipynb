{
 "cells": [
  {
   "cell_type": "code",
   "execution_count": 1,
   "id": "a0f9111a-f8fa-4375-9b93-3fa0ff87068a",
   "metadata": {},
   "outputs": [],
   "source": [
    "# Boilerplate\n",
    "import numpy as np\n",
    "import matplotlib.pyplot as plt\n",
    "import ipywidgets as widgets\n",
    "\n",
    "\n",
    "%matplotlib inline"
   ]
  },
  {
   "cell_type": "code",
   "execution_count": 2,
   "id": "99fa8fea-f4c8-49c5-98f0-0407cde0919d",
   "metadata": {},
   "outputs": [],
   "source": [
    "figure_size_x = 12\n",
    "figure_size_y = 7\n",
    "\n",
    "# Utility Functions\n",
    "\n",
    "def create_list_of_matrices(*matrices):\n",
    "    \"\"\"\n",
    "    Creates a geometrical figure from a variable amount of np.array variables.\n",
    "    Appends the first point to the end so that, when used with plt,\n",
    "    will close the figure.\n",
    "    \"\"\"\n",
    "    \n",
    "    # matrices is a tuple. Thus, we cannot append to it. So we create a new list and return that\n",
    "    # We also use an np.array so we can use the much better list slicing available with np\n",
    "    figure = np.array([matrix for matrix in matrices])\n",
    "    figure = np.append(figure, [figure[0]], axis = 0)\n",
    "    \n",
    "    return figure\n",
    "\n",
    "def get_x_and_y_points_from_list_of_matrices(list_of_matrices):\n",
    "    x_values = list_of_matrices[:, 0, 0]\n",
    "    y_values = list_of_matrices[:, 1, 0]\n",
    "    return x_values, y_values\n",
    "    "
   ]
  },
  {
   "cell_type": "markdown",
   "id": "2822ca44-c597-41ee-8679-5f081795f6a4",
   "metadata": {},
   "source": [
    "# Matrix Transformation Applications\n",
    "\n",
    "The figures provided here are shown using Matplotlib's Pyplot library. For the purposes of illustration, they are 2D figures, i.e. in the $R^2$ space, however, rest assured that these transformations can work in 3D."
   ]
  },
  {
   "cell_type": "markdown",
   "id": "03add576-4865-45f8-a540-d6ffd36373c4",
   "metadata": {},
   "source": [
    "## Identity\n",
    "\n",
    "Returns an identical copy of the matrix.\n",
    "\n",
    "$$\n",
    "\\begin{bmatrix}\n",
    "    1 & 0 \\\\\n",
    "    0 & 1 \\\\\n",
    "\\end{bmatrix}\n",
    "\\begin{bmatrix}\n",
    "    x \\\\\n",
    "    y \\\\\n",
    "\\end{bmatrix}\n",
    "=\n",
    "\\begin{bmatrix}\n",
    "    x \\\\\n",
    "    y \\\\\n",
    "\\end{bmatrix}\n",
    "$$"
   ]
  },
  {
   "cell_type": "code",
   "execution_count": 3,
   "id": "e1449f0a-ffe1-4579-a510-c1c2cfc373c1",
   "metadata": {},
   "outputs": [],
   "source": [
    "def transform_matrix_identity(list_of_matrices):\n",
    "    identity = np.array([\n",
    "        [1, 0],\n",
    "        [0, 1],\n",
    "    ])\n",
    "    transformed_matrix = np.array([identity @ matrix for matrix in list_of_matrices])\n",
    "    return transformed_matrix"
   ]
  },
  {
   "cell_type": "code",
   "execution_count": 4,
   "id": "49dec3f8-fc3f-4546-a626-c0cece009dfc",
   "metadata": {},
   "outputs": [
    {
     "data": {
      "image/png": "[encoded data removed]",
      "text/plain": [
       "<Figure size 864x504 with 2 Axes>"
      ]
     },
     "metadata": {
      "needs_background": "light"
     },
     "output_type": "display_data"
    }
   ],
   "source": [
    "matrix_a = np.array([\n",
    "    [1],\n",
    "    [3],\n",
    "])\n",
    "matrix_b = np.array([\n",
    "    [-3],\n",
    "    [7],\n",
    "])\n",
    "matrix_c = np.array([\n",
    "    [-2.5],\n",
    "    [5],\n",
    "])\n",
    "\n",
    "list_of_matrices_identity = create_list_of_matrices(matrix_a, matrix_b, matrix_c)\n",
    "x_values, y_values = get_x_and_y_points_from_list_of_matrices(list_of_matrices_identity)\n",
    "\n",
    "plt.figure(figsize = (figure_size_x, figure_size_y))\n",
    "\n",
    "plt.subplot(1, 2, 1)\n",
    "plt.grid()\n",
    "plt.plot(x_values, y_values, 'ro-', linewidth = 1.5)\n",
    "plt.title('Before Identity')\n",
    "\n",
    "# Turn on the origin lines\n",
    "plt.axvline(color = 'black')\n",
    "plt.axhline(color = 'black')\n",
    "\n",
    "transformed = transform_matrix_identity(list_of_matrices_identity)\n",
    "x_values_t, y_values_t = get_x_and_y_points_from_list_of_matrices(transformed)\n",
    "\n",
    "plt.subplot(1, 2, 2)\n",
    "plt.grid()\n",
    "plt.plot(x_values_t, y_values_t, 'go-', linewidth = 1.5)\n",
    "plt.title('After Identity')\n",
    "\n",
    "plt.axvline(color = 'black')\n",
    "plt.axhline(color = 'black')\n",
    "\n",
    "plt.show()"
   ]
  },
  {
   "cell_type": "markdown",
   "id": "3c41a222-a4da-46e5-9fbc-cf6ac2bc7b07",
   "metadata": {},
   "source": [
    "## Reflection\n",
    "\n",
    "Moves the figure to the opposite side of either the x or y axes.\n",
    "\n",
    "$$\n",
    "\\textbf{X-axis} \n",
    "\\\\\n",
    "\\begin{bmatrix}\n",
    "    1 & 0 \\\\\n",
    "    0 & -1 \\\\\n",
    "\\end{bmatrix}\n",
    "\\begin{bmatrix}\n",
    "    x \\\\\n",
    "    y \\\\\n",
    "\\end{bmatrix}\n",
    "=\n",
    "\\begin{bmatrix}\n",
    "    x \\\\\n",
    "    -y \\\\\n",
    "\\end{bmatrix}\n",
    "\\\\\n",
    "\\textbf{Y-axis}\n",
    "\\\\\n",
    "\\begin{bmatrix}\n",
    "    -1 & 0 \\\\\n",
    "    0 & 1 \\\\\n",
    "\\end{bmatrix}\n",
    "\\begin{bmatrix}\n",
    "    x \\\\\n",
    "    y \\\\\n",
    "\\end{bmatrix}\n",
    "=\n",
    "\\begin{bmatrix}\n",
    "    -x \\\\\n",
    "    y \\\\\n",
    "\\end{bmatrix}\n",
    "\\\\\n",
    "\\textbf{Switch X and Y}\n",
    "\\\\\n",
    "\\begin{bmatrix}\n",
    "    0 & 1 \\\\\n",
    "    1 & 0 \\\\\n",
    "\\end{bmatrix}\n",
    "\\begin{bmatrix}\n",
    "    x \\\\\n",
    "    y \\\\\n",
    "\\end{bmatrix}\n",
    "=\n",
    "\\begin{bmatrix}\n",
    "    y \\\\\n",
    "    x \\\\\n",
    "\\end{bmatrix}\n",
    "$$"
   ]
  },
  {
   "cell_type": "code",
   "execution_count": 5,
   "id": "4fea2376-6d91-4e3e-9cda-8c2a80ff0e72",
   "metadata": {},
   "outputs": [],
   "source": [
    "def transform_matrix_reflection(list_of_matrices, reflect = 'x'):\n",
    "    reflection = {}\n",
    "    reflection['x'] = np.array([\n",
    "        [1, 0],\n",
    "        [0, -1],\n",
    "    ])\n",
    "    reflection['y'] = np.array([\n",
    "        [-1, 0],\n",
    "        [0, 1],\n",
    "    ])\n",
    "    reflection['xy'] = np.array([\n",
    "        [0, 1],\n",
    "        [1, 0],\n",
    "    ])\n",
    "    \n",
    "    transformed_matrix = np.array([reflection[reflect] @ matrix for matrix in list_of_matrices])\n",
    "    return transformed_matrix"
   ]
  },
  {
   "cell_type": "code",
   "execution_count": 6,
   "id": "e1d5bdfd-5bb6-493d-9402-4daffa87fb47",
   "metadata": {},
   "outputs": [
    {
     "data": {
      "image/png": "[encoded data removed]",
      "text/plain": [
       "<Figure size 864x504 with 1 Axes>"
      ]
     },
     "metadata": {
      "needs_background": "light"
     },
     "output_type": "display_data"
    }
   ],
   "source": [
    "matrix_a = np.array([\n",
    "    [5],\n",
    "    [5],\n",
    "])\n",
    "matrix_b = np.array([\n",
    "    [9],\n",
    "    [5],\n",
    "])\n",
    "matrix_c = np.array([\n",
    "    [9],\n",
    "    [2],\n",
    "])\n",
    "matrix_d = np.array([\n",
    "    [5],\n",
    "    [2],\n",
    "])\n",
    "\n",
    "matrix_list_before_transform_reflection = create_list_of_matrices(matrix_a, matrix_b, matrix_c, matrix_d)\n",
    "matrix_list_transform_x = transform_matrix_reflection(matrix_list_before_transform_reflection, 'x')\n",
    "matrix_list_transform_y = transform_matrix_reflection(matrix_list_before_transform_reflection, 'y')\n",
    "matrix_list_transform_xy = transform_matrix_reflection(matrix_list_before_transform_reflection, 'xy')\n",
    "\n",
    "x_values, y_values = get_x_and_y_points_from_list_of_matrices(matrix_list_before_transform_reflection)\n",
    "x_values_transform_x, y_values_transform_x = get_x_and_y_points_from_list_of_matrices(matrix_list_transform_x)\n",
    "x_values_transform_y, y_values_transform_y = get_x_and_y_points_from_list_of_matrices(matrix_list_transform_y)\n",
    "x_values_transform_xy, y_values_transform_xy = get_x_and_y_points_from_list_of_matrices(matrix_list_transform_xy)\n",
    "\n",
    "\n",
    "plt.figure(figsize = (figure_size_x, figure_size_y))\n",
    "plt.grid()\n",
    "plt.title('Reflection')\n",
    "\n",
    "plt.plot(x_values, y_values, 'ro-', linewidth = 1.5)\n",
    "plt.annotate('Before Transformation', (5.5, 1.5) )\n",
    "\n",
    "plt.plot(x_values_transform_x, y_values_transform_x, 'go-', linewidth = 1.5)\n",
    "plt.annotate('Reflect over x-axis', (5.5, -1.75) )\n",
    "\n",
    "plt.plot(x_values_transform_y, y_values_transform_y, 'bo-', linewidth = 1.5)\n",
    "plt.annotate('Reflect over y-axis', (-8.25, 1.5) )\n",
    "\n",
    "plt.plot(x_values_transform_xy, y_values_transform_xy, 'yo-', linewidth = 1.5)\n",
    "plt.annotate('Reflected X and Y', (2.25, 4.5) )\n",
    "\n",
    "plt.axvline(color = 'black')\n",
    "plt.axhline(color = 'black')\n",
    "\n",
    "plt.show()\n",
    "\n"
   ]
  },
  {
   "cell_type": "markdown",
   "id": "30dac76c-0946-428b-9d7f-8a5ebced765a",
   "metadata": {},
   "source": [
    "## Scaling\n",
    "\n",
    "Scaling increases the size of a figure by stretching either horizontally or vertically.\n",
    "\n",
    "$$\n",
    "\\text{Let k be any positive constant.} \\\\\n",
    "\\textbf{Stretch along x-axis} \\\\\n",
    "\\begin{bmatrix}\n",
    "    k & 0 \\\\\n",
    "    0 & 1 \\\\\n",
    "\\end{bmatrix}\n",
    "\\begin{bmatrix}\n",
    "    x \\\\\n",
    "    y \\\\\n",
    "\\end{bmatrix}\n",
    "=\n",
    "\\begin{bmatrix}\n",
    "    kx \\\\\n",
    "    y\n",
    "\\end{bmatrix}\n",
    "\\\\\n",
    "\\textbf{Stretch along y-axis} \\\\\n",
    "\\begin{bmatrix}\n",
    "    1 & 0 \\\\\n",
    "    0 & k \\\\\n",
    "\\end{bmatrix}\n",
    "\\begin{bmatrix}\n",
    "    x \\\\\n",
    "    y \\\\\n",
    "\\end{bmatrix}\n",
    "=\n",
    "\\begin{bmatrix}\n",
    "    x \\\\\n",
    "    ky\n",
    "\\end{bmatrix}\n",
    "$$\n",
    "\n",
    "Combining both allows you to stretch in both ways at once."
   ]
  },
  {
   "cell_type": "code",
   "execution_count": 7,
   "id": "f4e39dda-7222-473f-8e4f-a274c0e779a5",
   "metadata": {},
   "outputs": [],
   "source": [
    "def transform_matrix_scale(list_of_matrices, scale_x = 1.0, scale_y = 1.0):\n",
    "    scale = np.array([\n",
    "        [scale_x, 0],\n",
    "        [0, scale_y],\n",
    "    ])\n",
    "    transformed_matrix = np.array([scale @ matrix for matrix in list_of_matrices])\n",
    "    return transformed_matrix"
   ]
  },
  {
   "cell_type": "code",
   "execution_count": 8,
   "id": "db204662-2f68-4f7f-81eb-8a009b6f4494",
   "metadata": {},
   "outputs": [],
   "source": [
    "float_slider_widget_x_scale = widgets.FloatSlider(\n",
    "    value = 1.0,\n",
    "    min = 1,\n",
    "    max = 100.0,\n",
    "    step = 0.1,\n",
    "    description = 'Scale X: '\n",
    ")\n",
    "float_slider_widget_y_scale = widgets.FloatSlider(\n",
    "    value = 1.0,\n",
    "    min = 1,\n",
    "    max = 100.0,\n",
    "    step = 0.1,\n",
    "    description = 'Scale Y: '\n",
    ")"
   ]
  },
  {
   "cell_type": "code",
   "execution_count": 9,
   "id": "46b76d18-5631-412d-b16e-d94fd5036f72",
   "metadata": {},
   "outputs": [
    {
     "data": {
      "application/vnd.jupyter.widget-view+json": {
       "model_id": "8e38b6bbc9a344bf9389290d06065d6b",
       "version_major": 2,
       "version_minor": 0
      },
      "text/plain": [
       "interactive(children=(FloatSlider(value=1.0, description='Scale X: ', min=1.0), FloatSlider(value=1.0, descrip…"
      ]
     },
     "metadata": {},
     "output_type": "display_data"
    },
    {
     "data": {
      "text/plain": [
       "<function __main__.transform_matrix_scale_widget_wrapper(scale_x=1.0, scale_y=1.0)>"
      ]
     },
     "execution_count": 9,
     "metadata": {},
     "output_type": "execute_result"
    }
   ],
   "source": [
    "def transform_matrix_scale_widget_wrapper(scale_x = 1.0, scale_y = 1.0):\n",
    "    transformed_matrix = transform_matrix_scale(matrix_list_before_transform_scale, scale_x, scale_y)\n",
    "    x_values, y_values = get_x_and_y_points_from_list_of_matrices(transformed_matrix)\n",
    "    \n",
    "    plt.figure(figsize = (figure_size_x, figure_size_y))\n",
    "    plt.grid()\n",
    "    plt.title('Scaling')\n",
    "    \n",
    "    plt.plot(x_values, y_values, 'ro-', linewidth = 1.5)\n",
    "    \n",
    "    plt.axvline(color = 'black')\n",
    "    plt.axhline(color = 'black')\n",
    "    \n",
    "    plt.show()\n",
    "\n",
    "matrix_a = np.array([\n",
    "    [3],\n",
    "    [6],\n",
    "])\n",
    "matrix_b = np.array([\n",
    "    [7],\n",
    "    [2],\n",
    "])\n",
    "matrix_c = np.array([\n",
    "    [3],\n",
    "    [-2],\n",
    "])\n",
    "matrix_d = np.array([\n",
    "    [-1],\n",
    "    [2],\n",
    "])\n",
    "\n",
    "matrix_list_before_transform_scale = create_list_of_matrices(matrix_a, matrix_b, matrix_c, matrix_d)\n",
    "\n",
    "widgets.interact(transform_matrix_scale_widget_wrapper, \n",
    "                 scale_x = float_slider_widget_x_scale, \n",
    "                 scale_y = float_slider_widget_y_scale)"
   ]
  },
  {
   "cell_type": "markdown",
   "id": "842073d0-a59e-48a6-977b-c65b65b0bc2b",
   "metadata": {},
   "source": [
    "## Shearing\n",
    "\n",
    "Shearing slants the figure.\n",
    "\n",
    "$$\n",
    "\\text{Let k be any constant.} \\\\\n",
    "\\textbf{Shear parallel to x-axis} \\\\\n",
    "\\begin{bmatrix}\n",
    "    1 & k \\\\\n",
    "    0 & 1 \\\\\n",
    "\\end{bmatrix}\n",
    "\\begin{bmatrix}\n",
    "    x \\\\\n",
    "    y \\\\\n",
    "\\end{bmatrix}\n",
    "=\n",
    "\\begin{bmatrix}\n",
    "    x\\prime \\\\\n",
    "    y\\prime\n",
    "\\end{bmatrix}\n",
    "\\\\\n",
    "\\textbf{Shear parallel to y-axis} \\\\\n",
    "\\begin{bmatrix}\n",
    "    1 & 0 \\\\\n",
    "    k & 1 \\\\\n",
    "\\end{bmatrix}\n",
    "\\begin{bmatrix}\n",
    "    x \\\\\n",
    "    y \\\\\n",
    "\\end{bmatrix}\n",
    "=\n",
    "\\begin{bmatrix}\n",
    "    x\\prime \\\\\n",
    "    y\\prime\n",
    "\\end{bmatrix}\n",
    "$$\n",
    "\n",
    "Once again, it is possible to combine these two for more unique shears."
   ]
  },
  {
   "cell_type": "code",
   "execution_count": 10,
   "id": "71488886-a6d5-4763-9ad4-906b3fc4b9e7",
   "metadata": {},
   "outputs": [],
   "source": [
    "def transform_matrix_shear(list_of_matrices, shear_constant_x = 0, shear_constant_y = 0, direction = 'xy'):\n",
    "    shear = {}\n",
    "    shear['x'] = np.array([\n",
    "        [1, shear_constant_x],\n",
    "        [0, 1],\n",
    "    ])\n",
    "    shear['y'] = np.array([\n",
    "        [1, 0],\n",
    "        [shear_constant_y, 1],\n",
    "    ])\n",
    "    shear['xy'] = np.array([\n",
    "        [1, shear_constant_x],\n",
    "        [shear_constant_y, 1],\n",
    "    ])\n",
    "    \n",
    "    transformed_matrix = np.array([shear[direction] @ matrix for matrix in list_of_matrices])\n",
    "    return transformed_matrix"
   ]
  },
  {
   "cell_type": "code",
   "execution_count": 11,
   "id": "cdebb211-00a1-4979-9c29-8321708704d7",
   "metadata": {},
   "outputs": [],
   "source": [
    "float_slider_widget_shear_x = widgets.FloatSlider(\n",
    "    value = 0.0,\n",
    "    min = -100.0,\n",
    "    max = 100.0,\n",
    "    step = 0.1,\n",
    "    description = 'Shear X: '\n",
    ")\n",
    "float_slider_widget_shear_y = widgets.FloatSlider(\n",
    "    value = 0.0,\n",
    "    min = -100.0,\n",
    "    max = 100.0,\n",
    "    step = 0.1,\n",
    "    description = 'Shear Y: '\n",
    ")"
   ]
  },
  {
   "cell_type": "code",
   "execution_count": 12,
   "id": "d796bb89-5b22-489e-8cde-c30f69864653",
   "metadata": {},
   "outputs": [
    {
     "data": {
      "application/vnd.jupyter.widget-view+json": {
       "model_id": "63db1bf7e2a9401abe4800a56f254056",
       "version_major": 2,
       "version_minor": 0
      },
      "text/plain": [
       "interactive(children=(FloatSlider(value=0.0, description='Shear X: ', min=-100.0), FloatSlider(value=0.0, desc…"
      ]
     },
     "metadata": {},
     "output_type": "display_data"
    },
    {
     "data": {
      "text/plain": [
       "<function __main__.transform_matrix_shear_widget_wrapper(shear_constant_x=0, shear_constant_y=0)>"
      ]
     },
     "execution_count": 12,
     "metadata": {},
     "output_type": "execute_result"
    }
   ],
   "source": [
    "def transform_matrix_shear_widget_wrapper(shear_constant_x = 0, shear_constant_y = 0):\n",
    "    transformed_matrix = transform_matrix_shear(matrix_list_before_transform_shear, shear_constant_x, shear_constant_y)\n",
    "    x_values, y_values = get_x_and_y_points_from_list_of_matrices(transformed_matrix)\n",
    "    \n",
    "    plt.figure(figsize = (figure_size_x, figure_size_y))\n",
    "    plt.grid()\n",
    "    plt.title('Shearing')\n",
    "    \n",
    "    plt.plot(x_values, y_values, 'ro-', linewidth = 1.5)\n",
    "    \n",
    "    plt.axvline(color = 'black')\n",
    "    plt.axhline(color = 'black')\n",
    "    \n",
    "    plt.show()\n",
    "\n",
    "matrix_a = np.array([\n",
    "    [3],\n",
    "    [7],\n",
    "])\n",
    "matrix_b = np.array([\n",
    "    [8],\n",
    "    [7],\n",
    "])\n",
    "matrix_c = np.array([\n",
    "    [5],\n",
    "    [-2],\n",
    "])\n",
    "matrix_d = np.array([\n",
    "    [0],\n",
    "    [-2],\n",
    "])\n",
    "\n",
    "matrix_list_before_transform_shear = create_list_of_matrices(matrix_a, matrix_b, matrix_c, matrix_d)\n",
    "\n",
    "widgets.interact(transform_matrix_shear_widget_wrapper, \n",
    "                 shear_constant_x = float_slider_widget_shear_x,\n",
    "                 shear_constant_y = float_slider_widget_shear_y)\n"
   ]
  },
  {
   "cell_type": "markdown",
   "id": "207eb849-bc17-4eb8-addf-44e49a25b2b5",
   "metadata": {},
   "source": [
    "## Rotation\n",
    "\n",
    "You can rotate a figure either clockwise or counterclockwise.\n",
    "\n",
    "$$\n",
    "\\textbf{Clockwise}\n",
    "\\\\\n",
    "\\begin{bmatrix}\n",
    "    \\cos \\theta & \\sin \\theta \\\\\n",
    "    -\\sin \\theta & \\cos \\theta \\\\\n",
    "\\end{bmatrix}\n",
    "\\begin{bmatrix}\n",
    "    x \\\\\n",
    "    y \\\\\n",
    "\\end{bmatrix}\n",
    "=\n",
    "\\begin{bmatrix}\n",
    "    x\\prime \\\\\n",
    "    y\\prime \\\\\n",
    "\\end{bmatrix}\n",
    "\\\\\n",
    "\\textbf{Counterclockwise}\n",
    "\\\\\n",
    "\\begin{bmatrix}\n",
    "    \\cos \\theta & -\\sin \\theta \\\\\n",
    "    \\sin \\theta & \\cos \\theta \\\\\n",
    "\\end{bmatrix}\n",
    "\\begin{bmatrix}\n",
    "    x \\\\\n",
    "    y \\\\\n",
    "\\end{bmatrix}\n",
    "=\n",
    "\\begin{bmatrix}\n",
    "    x\\prime \\\\\n",
    "    y\\prime \\\\\n",
    "\\end{bmatrix}\n",
    "$$"
   ]
  },
  {
   "cell_type": "code",
   "execution_count": 13,
   "id": "cec8b769-1c6c-4005-b00c-9d5391fb445e",
   "metadata": {},
   "outputs": [],
   "source": [
    "def transform_matrix_rotation(list_of_matrices, angle_theta = 0, direction = 'cw'):\n",
    "    rotate = {}\n",
    "    rotate['cw'] = np.array([\n",
    "        [np.cos(angle_theta), np.sin(angle_theta)],\n",
    "        [-np.sin(angle_theta), np.cos(angle_theta)],\n",
    "    ])\n",
    "    \n",
    "    transformed_matrix = np.array([rotate[direction] @ matrix for matrix in list_of_matrices])\n",
    "    return transformed_matrix"
   ]
  },
  {
   "cell_type": "code",
   "execution_count": 14,
   "id": "4ace49d0-f209-4020-8376-dd911e5be582",
   "metadata": {},
   "outputs": [],
   "source": [
    "float_slider_widget_angle = widgets.FloatSlider(\n",
    "    value = 0.0,\n",
    "    min = 0.0,\n",
    "    max = 360.0,\n",
    "    step = 0.1,\n",
    "    description = 'Angle Theta: '\n",
    ")"
   ]
  },
  {
   "cell_type": "code",
   "execution_count": 15,
   "id": "a5ee8adc-e2d6-4f6e-b5dc-7b7470c4fc70",
   "metadata": {},
   "outputs": [
    {
     "data": {
      "application/vnd.jupyter.widget-view+json": {
       "model_id": "6e3b4c1f2b614264828b669e230f37e2",
       "version_major": 2,
       "version_minor": 0
      },
      "text/plain": [
       "interactive(children=(FloatSlider(value=0.0, description='Angle Theta: ', max=360.0), Output()), _dom_classes=…"
      ]
     },
     "metadata": {},
     "output_type": "display_data"
    },
    {
     "data": {
      "text/plain": [
       "<function __main__.transform_matrix_rotation_widget_wrapper(angle_theta=0.0)>"
      ]
     },
     "execution_count": 15,
     "metadata": {},
     "output_type": "execute_result"
    }
   ],
   "source": [
    "def transform_matrix_rotation_widget_wrapper(angle_theta = 0.0):\n",
    "    transformed_matrix = transform_matrix_rotation(matrix_list_before_transform_rotate, angle_theta)\n",
    "    x_values, y_values = get_x_and_y_points_from_list_of_matrices(transformed_matrix)\n",
    "    \n",
    "    plt.figure(figsize = (figure_size_x, figure_size_y))\n",
    "    plt.grid()\n",
    "    plt.title('Rotation (Clockwise)')\n",
    "    \n",
    "    plt.plot(x_values, y_values, 'ro-', linewidth = 1.5)\n",
    "    \n",
    "    plt.axvline(color = 'black')\n",
    "    plt.axhline(color = 'black')\n",
    "    \n",
    "    plt.show()\n",
    "\n",
    "matrix_a = np.array([\n",
    "    [2],\n",
    "    [2],\n",
    "])\n",
    "matrix_b = np.array([\n",
    "    [5],\n",
    "    [2],\n",
    "])\n",
    "matrix_c = np.array([\n",
    "    [5],\n",
    "    [-1],\n",
    "])\n",
    "matrix_d = np.array([\n",
    "    [2],\n",
    "    [-1],\n",
    "])\n",
    "\n",
    "matrix_list_before_transform_rotate = create_list_of_matrices(matrix_a, matrix_b, matrix_c, matrix_d)\n",
    "\n",
    "widgets.interact(transform_matrix_rotation_widget_wrapper, \n",
    "                 angle_theta = float_slider_widget_angle)\n"
   ]
  },
  {
   "cell_type": "markdown",
   "id": "1ec8eafa-01f9-460d-ad81-a6ab09681aea",
   "metadata": {},
   "source": [
    "## Translations\n",
    "\n",
    "It is possible to directly move the coordinates of the figure through matrix multiplication by using a homogenous vector.\n",
    "\n",
    "$$\n",
    "\\begin{bmatrix}\n",
    "    x \\\\\n",
    "    y \\\\\n",
    "\\end{bmatrix}\n",
    "\\rightarrow\n",
    "\\begin{bmatrix}\n",
    "    x \\\\\n",
    "    y \\\\\n",
    "    1 \\\\\n",
    "\\end{bmatrix}\n",
    "$$\n",
    "\n",
    "Thus, we can use this to translate.\n",
    "\n",
    "$$\n",
    "\\textbf{Let } h \\textbf{ and } k \\textbf{ be any constant.} \\\\\n",
    "\\begin{bmatrix}\n",
    "    1 & 0 & h \\\\\n",
    "    0 & 1 & k \\\\\n",
    "    0 & 0 & 1 \\\\\n",
    "\\end{bmatrix}\n",
    "\\begin{bmatrix}\n",
    "    x \\\\\n",
    "    y \\\\\n",
    "    1\n",
    "\\end{bmatrix}\n",
    "=\n",
    "\\begin{bmatrix}\n",
    "    x + h \\\\\n",
    "    y + k \\\\\n",
    "    1\n",
    "\\end{bmatrix}\n",
    "$$"
   ]
  },
  {
   "cell_type": "code",
   "execution_count": 16,
   "id": "fbd824fc-9e03-48e9-ae2a-8c0b773c48e8",
   "metadata": {},
   "outputs": [],
   "source": [
    "def transform_matrix_translation(list_of_matrices, translate_x = 0.0, translate_y = 0.0):\n",
    "    translate = np.array([\n",
    "        [1, 0, translate_x],\n",
    "        [0, 1, translate_y],\n",
    "        [0, 0, 1],\n",
    "    ])\n",
    "    \n",
    "    transformed_matrix = np.array([translate @ matrix for matrix in list_of_matrices])\n",
    "    return transformed_matrix\n",
    "\n",
    "def convert_vector_to_homogenous(list_of_matrices):\n",
    "    converted = np.array([np.append(matrix, [[1]], axis = 0) for matrix in list_of_matrices])\n",
    "    return converted\n",
    "\n",
    "def convert_homogenous_to_vector(list_of_matrices):\n",
    "    index_to_delete = 2\n",
    "    converted = np.array([np.delete(matrix, index_to_delete, axis = 0) for matrix in list_of_matrices])\n",
    "    return converted"
   ]
  },
  {
   "cell_type": "code",
   "execution_count": 17,
   "id": "2bf0fc27-2f45-4caf-bc1a-298ac743a4c8",
   "metadata": {},
   "outputs": [],
   "source": [
    "float_slider_widget_translate_x = widgets.FloatSlider(\n",
    "    value = 0.0,\n",
    "    min = -100.0,\n",
    "    max = 100.0,\n",
    "    step = 0.1,\n",
    "    description = 'X: '\n",
    ")\n",
    "float_slider_widget_translate_y = widgets.FloatSlider(\n",
    "    value = 0.0,\n",
    "    min = -100.0,\n",
    "    max = 100.0,\n",
    "    step = 0.1,\n",
    "    description = 'Y: '\n",
    ")"
   ]
  },
  {
   "cell_type": "code",
   "execution_count": 18,
   "id": "15c56a49-d580-4845-8802-eb7251453942",
   "metadata": {},
   "outputs": [
    {
     "data": {
      "application/vnd.jupyter.widget-view+json": {
       "model_id": "cbba462c11fc43f791c9ad9e935eb59c",
       "version_major": 2,
       "version_minor": 0
      },
      "text/plain": [
       "interactive(children=(FloatSlider(value=0.0, description='X: ', min=-100.0), FloatSlider(value=0.0, descriptio…"
      ]
     },
     "metadata": {},
     "output_type": "display_data"
    },
    {
     "data": {
      "text/plain": [
       "<function __main__.transform_matrix_translation_widget_wrapper(translate_x, translate_y)>"
      ]
     },
     "execution_count": 18,
     "metadata": {},
     "output_type": "execute_result"
    }
   ],
   "source": [
    "def transform_matrix_translation_widget_wrapper(translate_x, translate_y):\n",
    "    transformed_matrix = transform_matrix_translation(converted, translate_x, translate_y)\n",
    "    converted_matrix = convert_homogenous_to_vector(transformed_matrix)\n",
    "    x_values, y_values = get_x_and_y_points_from_list_of_matrices(converted_matrix)\n",
    "    \n",
    "    plt.figure(figsize = (figure_size_x, figure_size_y))\n",
    "    plt.grid()\n",
    "    plt.title('Translation')\n",
    "    \n",
    "    plt.plot(x_values, y_values, 'ro-', linewidth = 1.5)\n",
    "    \n",
    "    plt.axvline(color = 'black')\n",
    "    plt.axhline(color = 'black')\n",
    "    \n",
    "    plt.show()\n",
    "\n",
    "matrix_a = np.array([\n",
    "    [3],\n",
    "    [5],\n",
    "])\n",
    "matrix_b = np.array([\n",
    "    [7],\n",
    "    [7],\n",
    "])\n",
    "matrix_c = np.array([\n",
    "    [6],\n",
    "    [2],\n",
    "])\n",
    "matrix_d = np.array([\n",
    "    [4],\n",
    "    [-2],\n",
    "])\n",
    "\n",
    "matrix_list_before_transform_translate = create_list_of_matrices(matrix_a, matrix_b, matrix_c, matrix_d)\n",
    "\n",
    "converted = convert_vector_to_homogenous(matrix_list_before_transform_translate)\n",
    "\n",
    "widgets.interact(transform_matrix_translation_widget_wrapper, \n",
    "                 translate_x = float_slider_widget_translate_x,\n",
    "                 translate_y = float_slider_widget_translate_y)"
   ]
  }
 ],
 "metadata": {
  "kernelspec": {
   "display_name": "Python 3 (ipykernel)",
   "language": "python",
   "name": "python3"
  },
  "language_info": {
   "codemirror_mode": {
    "name": "ipython",
    "version": 3
   },
   "file_extension": ".py",
   "mimetype": "text/x-python",
   "name": "python",
   "nbconvert_exporter": "python",
   "pygments_lexer": "ipython3",
   "version": "3.10.4"
  }
 },
 "nbformat": 4,
 "nbformat_minor": 5
}
