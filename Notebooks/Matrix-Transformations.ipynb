{
 "cells": [
  {
   "cell_type": "code",
   "execution_count": 5,
   "id": "a0f9111a-f8fa-4375-9b93-3fa0ff87068a",
   "metadata": {},
   "outputs": [],
   "source": [
    "# Boilerplate\n",
    "import numpy as np\n",
    "import matplotlib.pyplot as plt\n",
    "\n",
    "%matplotlib inline"
   ]
  },
  {
   "cell_type": "code",
   "execution_count": 116,
   "id": "99fa8fea-f4c8-49c5-98f0-0407cde0919d",
   "metadata": {},
   "outputs": [],
   "source": [
    "figure_size_x = 12\n",
    "figure_size_y = 7\n",
    "\n",
    "# Utility Functions\n",
    "\n",
    "def create_list_of_matrices(*matrices):\n",
    "    \"\"\"\n",
    "    Creates a geometrical figure from a variable amount of np.array variables.\n",
    "    Appends the first point to the end so that, when used with plt,\n",
    "    will close the figure.\n",
    "    \"\"\"\n",
    "    \n",
    "    # matrices is a tuple. Thus, we cannot append to it. So we create a new list and return that\n",
    "    # We also use an np.array so we can use the much better list slicing available with np\n",
    "    figure = np.array([matrix for matrix in matrices])\n",
    "    figure = np.append(figure, [figure[0]], axis = 0)\n",
    "    \n",
    "    return figure\n",
    "\n",
    "def get_x_and_y_points_from_list_of_matrices(list_of_matrices):\n",
    "    x_values = list_of_matrices[:, 0, 0]\n",
    "    y_values = list_of_matrices[:, 1, 0]\n",
    "    return x_values, y_values\n",
    "    "
   ]
  },
  {
   "cell_type": "markdown",
   "id": "2822ca44-c597-41ee-8679-5f081795f6a4",
   "metadata": {},
   "source": [
    "# Matrix Transformation Applications\n",
    "\n",
    "The figures provided here are shown using Matplotlib's Pyplot library. For the purposes of illustration, they are 2D figures, i.e. in the $R^2$ space, however, rest assured that these transformations can work in 3D."
   ]
  },
  {
   "cell_type": "markdown",
   "id": "03add576-4865-45f8-a540-d6ffd36373c4",
   "metadata": {},
   "source": [
    "## Identity\n",
    "\n",
    "Returns an identical copy of the matrix.\n",
    "\n",
    "$$\n",
    "\n",
    "$$"
   ]
  },
  {
   "cell_type": "code",
   "execution_count": 133,
   "id": "e1449f0a-ffe1-4579-a510-c1c2cfc373c1",
   "metadata": {},
   "outputs": [],
   "source": [
    "def transform_matrix_identity(list_of_matrices):\n",
    "    identity = np.array([\n",
    "        [1, 0],\n",
    "        [0, 1],\n",
    "    ])\n",
    "    transformed_matrix = np.array([identity @ matrix for matrix in list_of_matrices])\n",
    "    # print(transformed_matrix)\n",
    "    return transformed_matrix"
   ]
  },
  {
   "cell_type": "markdown",
   "id": "3c41a222-a4da-46e5-9fbc-cf6ac2bc7b07",
   "metadata": {},
   "source": [
    "## Stretching"
   ]
  },
  {
   "cell_type": "code",
   "execution_count": 134,
   "id": "49dec3f8-fc3f-4546-a626-c0cece009dfc",
   "metadata": {},
   "outputs": [
    {
     "name": "stdout",
     "output_type": "stream",
     "text": [
      "[[[ 3. ]\n",
      "  [ 1. ]]\n",
      "\n",
      " [[ 7. ]\n",
      "  [-3. ]]\n",
      "\n",
      " [[ 5. ]\n",
      "  [-2.5]]\n",
      "\n",
      " [[ 3. ]\n",
      "  [ 1. ]]]\n"
     ]
    },
    {
     "data": {
      "image/png": "[encoded data removed]",
      "text/plain": [
       "<Figure size 864x504 with 2 Axes>"
      ]
     },
     "metadata": {
      "needs_background": "light"
     },
     "output_type": "display_data"
    }
   ],
   "source": [
    "matrix_a = np.array([\n",
    "    [1],\n",
    "    [3],\n",
    "])\n",
    "matrix_b = np.array([\n",
    "    [-3],\n",
    "    [7],\n",
    "])\n",
    "matrix_c = np.array([\n",
    "    [-2.5],\n",
    "    [5],\n",
    "])\n",
    "list_of_matrices = create_list_of_matrices(matrix_a, matrix_b, matrix_c)\n",
    "x_values, y_values = get_x_and_y_points_from_list_of_matrices(list_of_matrices)\n",
    "\n",
    "plt.figure(figsize = (figure_size_x, figure_size_y))\n",
    "\n",
    "plt.subplot(1, 2, 1)\n",
    "plt.grid()\n",
    "plt.plot(x_values, y_values, 'o-', linewidth = 1.5)\n",
    "plt.xlabel('Before Rotation')\n",
    "\n",
    "print(transform_matrix_identity(list_of_matrices))\n",
    "plt.subplot(1, 2, 2)\n",
    "plt.grid()\n",
    "plt.plot(x_values, y_values, 'o-', linewidth = 1.5)\n",
    "plt.xlabel('After Rotation')\n",
    "\n",
    "plt.show()"
   ]
  },
  {
   "cell_type": "code",
   "execution_count": null,
   "id": "e1d5bdfd-5bb6-493d-9402-4daffa87fb47",
   "metadata": {},
   "outputs": [],
   "source": []
  },
  {
   "cell_type": "code",
   "execution_count": null,
   "id": "1f9dee2a-f628-4866-9eee-9d7bbea0be00",
   "metadata": {},
   "outputs": [],
   "source": []
  }
 ],
 "metadata": {
  "kernelspec": {
   "display_name": "Python 3 (ipykernel)",
   "language": "python",
   "name": "python3"
  },
  "language_info": {
   "codemirror_mode": {
    "name": "ipython",
    "version": 3
   },
   "file_extension": ".py",
   "mimetype": "text/x-python",
   "name": "python",
   "nbconvert_exporter": "python",
   "pygments_lexer": "ipython3",
   "version": "3.10.4"
  }
 },
 "nbformat": 4,
 "nbformat_minor": 5
}
